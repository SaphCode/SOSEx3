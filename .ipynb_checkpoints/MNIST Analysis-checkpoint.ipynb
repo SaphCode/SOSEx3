{
 "cells": [
  {
   "cell_type": "code",
   "execution_count": null,
   "metadata": {},
   "outputs": [],
   "source": [
    "import pandas as pd\n",
    "import matplotlib.pyplot as plt\n",
    "import matplotlib.gridspec as gridspec\n",
    "import seaborn as sns\n",
    "import numpy as np\n",
    "\n",
    "mnist = pd.read_csv(\"Data/mnist_784.csv\", engine = 'python')"
   ]
  },
  {
   "cell_type": "markdown",
   "metadata": {},
   "source": [
    "# MNIST Dataset Analysis\n",
    "\n",
    "This notebook corresponds to B) 3. & 4.\n",
    "\n",
    "## Analyze and describe the characteristics of the dataset\n",
    "\n",
    "Much of the pre-processing has already been taken care of for us. The original digit images black and white (bilevel) were size normalized to fit in a 20x20 pixel box, preserving aspect ratio. The images were then centered in a 28x28 image by calculating the center of mass of the pixels, which was moved to the center of the 28x28 image. The csv contains pixel data, namely 784 pixels and a class label from 0-9.\n",
    "\n",
    "We have a little less 5's than we would want to and a little more 2's, but overall it is quite balanced. Let's try and plot some of the images to get a feel for the data.\n",
    "\n",
    "The data will **not** be normalized, because all the pixel values represent intensities, and they are all measured at the same scale (same unit), so the distance calculation makes sense."
   ]
  },
  {
   "cell_type": "code",
   "execution_count": null,
   "metadata": {},
   "outputs": [],
   "source": [
    "mnist.info()\n",
    "mnist.describe()"
   ]
  },
  {
   "cell_type": "code",
   "execution_count": null,
   "metadata": {},
   "outputs": [],
   "source": [
    "sns.histplot(mnist[\"class\"])"
   ]
  },
  {
   "cell_type": "code",
   "execution_count": null,
   "metadata": {},
   "outputs": [],
   "source": [
    "fig = plt.figure(figsize = (10, 10))\n",
    "gs = gridspec.GridSpec(10, 10)\n",
    "gs.update(wspace = 0.025, hspace = 0.025)\n",
    "images = np.array(mnist.drop(\"class\", axis = 1).head(100))\n",
    "row = 0\n",
    "for i, im in enumerate(images):\n",
    "    col = i % 10\n",
    "    if col == 0 and i != 0: row += 1\n",
    "    ax = plt.subplot(gs[i])\n",
    "    plt.axis('on')\n",
    "    ax.imshow(im.reshape(28,28), cmap = \"gray\", vmin = 0, vmax = 255)\n",
    "    ax.set_xticklabels([])\n",
    "    ax.set_yticklabels([])\n",
    "    ax.set_aspect('equal')\n",
    "\n",
    "plt.savefig(\"Images/mnist_examples.png\")\n",
    "plt.show()"
   ]
  },
  {
   "cell_type": "markdown",
   "metadata": {},
   "source": [
    "# Min Max scaling"
   ]
  },
  {
   "cell_type": "code",
   "execution_count": null,
   "metadata": {},
   "outputs": [],
   "source": [
    "for col in mnist.columns:\n",
    "    if \"class\" not in col:\n",
    "        minimum = mnist[col].min()\n",
    "        maximum = mnist[col].max()\n",
    "        if minimum != maximum:\n",
    "            mnist[col] = (mnist[col] - minimum)/(maximum - minimum)"
   ]
  },
  {
   "cell_type": "code",
   "execution_count": null,
   "metadata": {},
   "outputs": [],
   "source": [
    "mnist[\"pixel1\"].min()"
   ]
  },
  {
   "cell_type": "markdown",
   "metadata": {},
   "source": [
    "# ignore all the text here, it can only be read if not formatted by markdown\n",
    "\n",
    "# ----------------------------------------------------------------\n",
    "# Converting to SOMLib format\n",
    "\n",
    "We need to get it into the format:\n",
    "\n",
    "INPUT VECTOR:\n",
    "\n",
    "$TYPE inputvec\n",
    "$XDIM <# of input vectors>\n",
    "$YDIM 1\n",
    "$VECDIM <# of features>\n",
    "    \n",
    "<feat 1> <feat 2> ... <name of input vector 1>\n",
    "<feat 1> <feat 2> ... <name of input vector 2>\n",
    "\n",
    "\n",
    "TEMPLATE VECTOR:\n",
    "\n",
    "$TYPE template\n",
    "$XDIM 7\n",
    "$YDIM  <# of input vectors>\n",
    "$VECDIM <# of features>\n",
    "0 <name of feature 1> <df> <tf> <min_tf> <max_tf> <mean_tf>\n",
    "\n",
    "1 <name of feature 2> <df> <tf> <min_tf> <max_tf> <mean_tf>\n",
    "2 <name of feature 3> <df> <tf> <min_tf> <max_tf> <mean_tf>\n",
    "\n",
    ":\n",
    ":\n",
    ":\n",
    "<# of features - 1>  <name of feature n> <df> <tf> <min_tf> <max_tf> <mean_tf>\n",
    "    \n",
    "    \n",
    "\n",
    "SOMLib Class Information File\n",
    "Parameter Entries:\n",
    "\n",
    "# Block of Comments: (optional) several lines of comments each starting with #\n",
    "$NUM_CLASSES: <integer>, mandatory\n",
    "Indicates the number of different classes\n",
    "$CLASS_NAMES: list of strings, mandatory\n",
    "A space-separated list of the class names\n",
    "$XDIM: <integer>, mandatory\n",
    "number of entities per line; fixed to 2\n",
    "$YDIM: <integer>, mandatory\n",
    "number of input vectors in file\n",
    "The header above describes the general file structure.\n",
    "Following this block, the second block contains a space-separated mapping vector label => class index\n",
    "<VEC_ID_1> <CLASS_INDEX_VECTOR_1>\n",
    ":::::::::::::::::::::::::::::::::::::::\n",
    "<VEC_ID_n> <CLASS_INDEX_VECTOR_n>\n",
    "The <VEC_ID_1> is of type string and denotes the label of the vector. <CLASS_INDEX> is of type <integer>, and gives the numerical index of the class, starting with 0 and in the order given in the header. Both fields are mandatory.\n",
    "    \n",
    "# ----------------------------------------\n"
   ]
  },
  {
   "cell_type": "code",
   "execution_count": null,
   "metadata": {},
   "outputs": [],
   "source": [
    "num_images = 2000"
   ]
  },
  {
   "cell_type": "code",
   "execution_count": null,
   "metadata": {},
   "outputs": [],
   "source": [
    "\n",
    "vec_label = \"im\"\n",
    "\n",
    "with open(\"SOM/vector.in\", \"w\") as f:\n",
    "    f.write(\"$TYPE inputvec\\n\")\n",
    "    f.write(f\"$XDIM {num_images}\\n\")\n",
    "    f.write(\"$YDIM 1\\n\")\n",
    "    f.write(\"$VECDIM 784\\n\")\n",
    "    for i, image in mnist.drop(\"class\", axis = 1).head(num_images).iterrows():\n",
    "        for value in image:\n",
    "            f.write(f\"{value} \")\n",
    "        f.write(f\"{vec_label}{i}\\n\")\n",
    "\n",
    "        \n",
    "with open(\"SOM/vector.tv\", \"w\") as f:\n",
    "    f.write(\"$TYPE template\\n\")\n",
    "    f.write(\"$XDIM 7\\n\")\n",
    "    f.write(f\"$YDIM {num_images}\\n\")\n",
    "    f.write(\"$VECDIM 784\\n\")\n",
    "    for i, col in enumerate(mnist.columns):\n",
    "        if \"class\" not in col:\n",
    "            f.write(f\"{i} {col} 1 1 1 1 1\\n\")\n",
    "            \n",
    "with open(\"SOM/class_info.cls\", \"w\") as f:\n",
    "    num_classes = 10\n",
    "    f.write(f\"$NUM_CLASSES {num_classes}\\n\")\n",
    "    f.write(\"$CLASS_NAMES 0 1 2 3 4 5 6 7 8 9\\n\")\n",
    "    f.write(f\"$XDIM 2\\n\")\n",
    "    f.write(f\"$YDIM {num_images}\\n\")\n",
    "    for i, cls in enumerate(mnist[\"class\"].head(num_images)):\n",
    "        f.write(f\"{vec_label}{i} {cls}\\n\")"
   ]
  },
  {
   "cell_type": "code",
   "execution_count": null,
   "metadata": {},
   "outputs": [],
   "source": [
    "with open(\"SOM/class_info.cls\", \"w\") as f:\n",
    "    num_classes = 10\n",
    "    f.write(f\"$NUM_CLASSES {num_classes}\\n\")\n",
    "    f.write(\"$CLASS_NAMES 0 1 2 3 4 5 6 7 8 9\\n\")\n",
    "    f.write(f\"$XDIM 2\\n\")\n",
    "    f.write(f\"$YDIM {num_images}\\n\")\n",
    "    for i, cls in enumerate(mnist[\"class\"].head(num_images)):\n",
    "        f.write(f\"{vec_label}{i} {cls}\\n\")"
   ]
  },
  {
   "cell_type": "code",
   "execution_count": null,
   "metadata": {
    "scrolled": true
   },
   "outputs": [],
   "source": [
    "mnist[\"class\"].head(num_images).hist()\n",
    "#plt.title(f\"Class distribution for a sample of {num_images} from the MNIST dataset\")\n",
    "plt.ylabel(\"count\")\n",
    "plt.xlabel(\"class\")\n",
    "plt.savefig(\"Images/som1_class_dist.png\")"
   ]
  },
  {
   "cell_type": "code",
   "execution_count": null,
   "metadata": {},
   "outputs": [],
   "source": []
  }
 ],
 "metadata": {
  "kernelspec": {
   "display_name": "datascience",
   "language": "python",
   "name": "datascience"
  },
  "language_info": {
   "codemirror_mode": {
    "name": "ipython",
    "version": 3
   },
   "file_extension": ".py",
   "mimetype": "text/x-python",
   "name": "python",
   "nbconvert_exporter": "python",
   "pygments_lexer": "ipython3",
   "version": "3.8.5"
  }
 },
 "nbformat": 4,
 "nbformat_minor": 4
}
