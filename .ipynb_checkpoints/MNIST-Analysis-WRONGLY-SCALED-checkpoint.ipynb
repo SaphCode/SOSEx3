{
 "cells": [
  {
   "cell_type": "code",
   "execution_count": 1,
   "metadata": {},
   "outputs": [],
   "source": [
    "import pandas as pd\n",
    "import matplotlib.pyplot as plt\n",
    "import matplotlib.gridspec as gridspec\n",
    "import seaborn as sns\n",
    "import numpy as np\n",
    "import random as rd\n",
    "\n",
    "mnist = pd.read_csv(\"Data/mnist_784.csv\", engine = 'python')"
   ]
  },
  {
   "cell_type": "code",
   "execution_count": 7,
   "metadata": {},
   "outputs": [],
   "source": [
    "for col in mnist.columns:\n",
    "    if \"class\" not in col:\n",
    "        rand_factor = rd.random()\n",
    "        minimum = mnist[col].min() * rand_factor\n",
    "        maximum = mnist[col].max() * rand_factor\n",
    "        if minimum != maximum:\n",
    "            mnist[col] = (mnist[col] - minimum)/(maximum - minimum)"
   ]
  },
  {
   "cell_type": "code",
   "execution_count": 6,
   "metadata": {},
   "outputs": [
    {
     "data": {
      "text/plain": [
       "0"
      ]
     },
     "execution_count": 6,
     "metadata": {},
     "output_type": "execute_result"
    }
   ],
   "source": [
    "mnist[\"pixel1\"].min()"
   ]
  },
  {
   "cell_type": "markdown",
   "metadata": {},
   "source": [
    "# ignore all the text here, it can only be read if not formatted by markdown\n",
    "\n",
    "# ----------------------------------------------------------------\n",
    "# Converting to SOMLib format\n",
    "\n",
    "We need to get it into the format:\n",
    "\n",
    "INPUT VECTOR:\n",
    "\n",
    "$TYPE inputvec\n",
    "$XDIM <# of input vectors>\n",
    "$YDIM 1\n",
    "$VECDIM <# of features>\n",
    "    \n",
    "<feat 1> <feat 2> ... <name of input vector 1>\n",
    "<feat 1> <feat 2> ... <name of input vector 2>\n",
    "\n",
    "\n",
    "TEMPLATE VECTOR:\n",
    "\n",
    "$TYPE template\n",
    "$XDIM 7\n",
    "$YDIM  <# of input vectors>\n",
    "$VECDIM <# of features>\n",
    "0 <name of feature 1> <df> <tf> <min_tf> <max_tf> <mean_tf>\n",
    "\n",
    "1 <name of feature 2> <df> <tf> <min_tf> <max_tf> <mean_tf>\n",
    "2 <name of feature 3> <df> <tf> <min_tf> <max_tf> <mean_tf>\n",
    "\n",
    ":\n",
    ":\n",
    ":\n",
    "<# of features - 1>  <name of feature n> <df> <tf> <min_tf> <max_tf> <mean_tf>\n",
    "    \n",
    "    \n",
    "\n",
    "SOMLib Class Information File\n",
    "Parameter Entries:\n",
    "\n",
    "# Block of Comments: (optional) several lines of comments each starting with #\n",
    "$NUM_CLASSES: <integer>, mandatory\n",
    "Indicates the number of different classes\n",
    "$CLASS_NAMES: list of strings, mandatory\n",
    "A space-separated list of the class names\n",
    "$XDIM: <integer>, mandatory\n",
    "number of entities per line; fixed to 2\n",
    "$YDIM: <integer>, mandatory\n",
    "number of input vectors in file\n",
    "The header above describes the general file structure.\n",
    "Following this block, the second block contains a space-separated mapping vector label => class index\n",
    "<VEC_ID_1> <CLASS_INDEX_VECTOR_1>\n",
    ":::::::::::::::::::::::::::::::::::::::\n",
    "<VEC_ID_n> <CLASS_INDEX_VECTOR_n>\n",
    "The <VEC_ID_1> is of type string and denotes the label of the vector. <CLASS_INDEX> is of type <integer>, and gives the numerical index of the class, starting with 0 and in the order given in the header. Both fields are mandatory.\n",
    "    \n",
    "# ----------------------------------------\n"
   ]
  },
  {
   "cell_type": "code",
   "execution_count": 15,
   "metadata": {},
   "outputs": [],
   "source": [
    "num_images = 700"
   ]
  },
  {
   "cell_type": "code",
   "execution_count": 16,
   "metadata": {},
   "outputs": [],
   "source": [
    "\n",
    "vec_label = \"im\"\n",
    "\n",
    "with open(\"SOM-wrong-scaled/vector.in\", \"w\") as f:\n",
    "    f.write(\"$TYPE inputvec\\n\")\n",
    "    f.write(f\"$XDIM {num_images}\\n\")\n",
    "    f.write(\"$YDIM 1\\n\")\n",
    "    f.write(\"$VECDIM 784\\n\")\n",
    "    for i, image in mnist.drop(\"class\", axis = 1).head(num_images).iterrows():\n",
    "        for value in image:\n",
    "            f.write(f\"{value} \")\n",
    "        f.write(f\"{vec_label}{i}\\n\")\n",
    "\n",
    "        \n",
    "with open(\"SOM-wrong-scaled/vector.tv\", \"w\") as f:\n",
    "    f.write(\"$TYPE template\\n\")\n",
    "    f.write(\"$XDIM 7\\n\")\n",
    "    f.write(f\"$YDIM {num_images}\\n\")\n",
    "    f.write(\"$VECDIM 784\\n\")\n",
    "    for i, col in enumerate(mnist.columns):\n",
    "        if \"class\" not in col:\n",
    "            f.write(f\"{i} {col} 1 1 1 1 1\\n\")\n",
    "            \n",
    "with open(\"SOM-wrong-scaled/class_info.cls\", \"w\") as f:\n",
    "    num_classes = 10\n",
    "    f.write(f\"$NUM_CLASSES {num_classes}\\n\")\n",
    "    f.write(\"$CLASS_NAMES 0 1 2 3 4 5 6 7 8 9\\n\")\n",
    "    f.write(f\"$XDIM 2\\n\")\n",
    "    f.write(f\"$YDIM {num_images}\\n\")\n",
    "    for i, cls in enumerate(mnist[\"class\"].head(num_images)):\n",
    "        f.write(f\"{vec_label}{i} {cls}\\n\")"
   ]
  },
  {
   "cell_type": "code",
   "execution_count": 17,
   "metadata": {},
   "outputs": [],
   "source": [
    "with open(\"SOM-wrong-scaled/class_info.cls\", \"w\") as f:\n",
    "    num_classes = 10\n",
    "    f.write(f\"$NUM_CLASSES {num_classes}\\n\")\n",
    "    f.write(\"$CLASS_NAMES 0 1 2 3 4 5 6 7 8 9\\n\")\n",
    "    f.write(f\"$XDIM 2\\n\")\n",
    "    f.write(f\"$YDIM {num_images}\\n\")\n",
    "    for i, cls in enumerate(mnist[\"class\"].head(num_images)):\n",
    "        f.write(f\"{vec_label}{i} {cls}\\n\")"
   ]
  },
  {
   "cell_type": "code",
   "execution_count": 18,
   "metadata": {
    "scrolled": true
   },
   "outputs": [
    {
     "data": {
      "image/png": "[encoded data removed]",
      "text/plain": [
       "<Figure size 432x288 with 1 Axes>"
      ]
     },
     "metadata": {
      "needs_background": "light"
     },
     "output_type": "display_data"
    }
   ],
   "source": [
    "mnist[\"class\"].head(num_images).hist()\n",
    "#plt.title(f\"Class distribution for a sample of {num_images} from the MNIST dataset\")\n",
    "plt.ylabel(\"count\")\n",
    "plt.xlabel(\"class\")\n",
    "plt.savefig(\"Images/som1_class_dist.png\")"
   ]
  },
  {
   "cell_type": "code",
   "execution_count": null,
   "metadata": {},
   "outputs": [],
   "source": []
  }
 ],
 "metadata": {
  "kernelspec": {
   "display_name": "Python 3",
   "language": "python",
   "name": "python3"
  },
  "language_info": {
   "codemirror_mode": {
    "name": "ipython",
    "version": 3
   },
   "file_extension": ".py",
   "mimetype": "text/x-python",
   "name": "python",
   "nbconvert_exporter": "python",
   "pygments_lexer": "ipython3",
   "version": "3.8.5"
  }
 },
 "nbformat": 4,
 "nbformat_minor": 4
}
